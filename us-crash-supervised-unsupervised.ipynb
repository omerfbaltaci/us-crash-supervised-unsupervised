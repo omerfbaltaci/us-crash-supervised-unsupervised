{
 "cells": [
  {
   "cell_type": "code",
   "execution_count": 1,
   "id": "88a924cd",
   "metadata": {
    "_cell_guid": "b1076dfc-b9ad-4769-8c92-a6c4dae69d19",
    "_uuid": "8f2839f25d086af736a60e9eeb907d3b93b6e0e5",
    "execution": {
     "iopub.execute_input": "2024-09-26T16:53:10.589128Z",
     "iopub.status.busy": "2024-09-26T16:53:10.588563Z",
     "iopub.status.idle": "2024-09-26T16:53:10.602807Z",
     "shell.execute_reply": "2024-09-26T16:53:10.602244Z"
    },
    "papermill": {
     "duration": 0.021801,
     "end_time": "2024-09-26T16:53:10.604484",
     "exception": false,
     "start_time": "2024-09-26T16:53:10.582683",
     "status": "completed"
    },
    "tags": []
   },
   "outputs": [
    {
     "name": "stdout",
     "output_type": "stream",
     "text": [
      "/kaggle/input/US_Accidents_March23.csv\n"
     ]
    }
   ],
   "source": [
    "# This Python 3 environment comes with many helpful analytics libraries installed\n",
    "# It is defined by the kaggle/python Docker image: https://github.com/kaggle/docker-python\n",
    "# For example, here's several helpful packages to load\n",
    "\n",
    "# Input data files are available in the read-only \"../input/\" directory\n",
    "# For example, running this (by clicking run or pressing Shift+Enter) will list all files under the input directory\n",
    "\n",
    "import os\n",
    "for dirname, _, filenames in os.walk('/kaggle/input'):\n",
    "    for filename in filenames:\n",
    "        print(os.path.join(dirname, filename))\n",
    "\n",
    "# You can write up to 20GB to the current directory (/kaggle/working/) that gets preserved as output when you create a version using \"Save & Run All\" \n",
    "# You can also write temporary files to /kaggle/temp/, but they won't be saved outside of the current session"
   ]
  },
  {
   "cell_type": "code",
   "execution_count": 2,
   "id": "fede39fd",
   "metadata": {
    "execution": {
     "iopub.execute_input": "2024-09-26T16:53:10.614601Z",
     "iopub.status.busy": "2024-09-26T16:53:10.614387Z",
     "iopub.status.idle": "2024-09-26T16:53:13.734217Z",
     "shell.execute_reply": "2024-09-26T16:53:13.733588Z"
    },
    "papermill": {
     "duration": 3.126571,
     "end_time": "2024-09-26T16:53:13.736405",
     "exception": false,
     "start_time": "2024-09-26T16:53:10.609834",
     "status": "completed"
    },
    "tags": []
   },
   "outputs": [],
   "source": [
    "import numpy as np # linear algebra\n",
    "import pandas as pd # data processing, CSV file I/O (e.g. pd.read_csv)\n",
    "import matplotlib.pyplot as plt\n",
    "import seaborn as sns"
   ]
  },
  {
   "cell_type": "markdown",
   "id": "c38175f2",
   "metadata": {
    "papermill": {
     "duration": 0.003454,
     "end_time": "2024-09-26T16:53:13.743874",
     "exception": false,
     "start_time": "2024-09-26T16:53:13.740420",
     "status": "completed"
    },
    "tags": []
   },
   "source": [
    "### Importing Libraries\n",
    "In this section, essential libraries are imported for data analysis and visualization:\n",
    "- **NumPy**: For numerical operations and linear algebra.\n",
    "- **Pandas**: For data manipulation and reading CSV files.\n",
    "- **Matplotlib**: For creating static, animated, and interactive visualizations.\n",
    "- **Seaborn**: For enhanced statistical data visualization.\n",
    "---"
   ]
  },
  {
   "cell_type": "code",
   "execution_count": 3,
   "id": "a1cce528",
   "metadata": {
    "execution": {
     "iopub.execute_input": "2024-09-26T16:53:13.752565Z",
     "iopub.status.busy": "2024-09-26T16:53:13.752210Z",
     "iopub.status.idle": "2024-09-26T16:53:15.800749Z",
     "shell.execute_reply": "2024-09-26T16:53:15.799893Z"
    },
    "papermill": {
     "duration": 2.055678,
     "end_time": "2024-09-26T16:53:15.803120",
     "exception": false,
     "start_time": "2024-09-26T16:53:13.747442",
     "status": "completed"
    },
    "tags": []
   },
   "outputs": [],
   "source": [
    "df = pd.read_csv(\"/kaggle/input/US_Accidents_March23.csv\", nrows=200000)\n",
    "df = df[['ID', 'Severity', 'Start_Time', 'End_Time', 'Distance(mi)']]"
   ]
  },
  {
   "cell_type": "markdown",
   "id": "0448ec11",
   "metadata": {
    "papermill": {
     "duration": 0.004052,
     "end_time": "2024-09-26T16:53:15.811075",
     "exception": false,
     "start_time": "2024-09-26T16:53:15.807023",
     "status": "completed"
    },
    "tags": []
   },
   "source": [
    "### Loading and Selecting Data\n",
    "This code loads the dataset containing US traffic accidents from a CSV file, reading only the first 200,000 rows. It then selects relevant columns for analysis:\n",
    "- **ID**: Unique identifier for each accident.\n",
    "- **Severity**: Severity level of the accident.\n",
    "- **Start_Time**: Timestamp for when the accident started.\n",
    "- **End_Time**: Timestamp for when the accident ended.\n",
    "- **Distance(mi)**: Distance affected by the accident in miles.\n",
    "---"
   ]
  },
  {
   "cell_type": "code",
   "execution_count": 4,
   "id": "39405473",
   "metadata": {
    "execution": {
     "iopub.execute_input": "2024-09-26T16:53:15.820023Z",
     "iopub.status.busy": "2024-09-26T16:53:15.819728Z",
     "iopub.status.idle": "2024-09-26T16:53:15.877923Z",
     "shell.execute_reply": "2024-09-26T16:53:15.877293Z"
    },
    "papermill": {
     "duration": 0.064879,
     "end_time": "2024-09-26T16:53:15.879777",
     "exception": false,
     "start_time": "2024-09-26T16:53:15.814898",
     "status": "completed"
    },
    "tags": []
   },
   "outputs": [
    {
     "name": "stdout",
     "output_type": "stream",
     "text": [
      "<class 'pandas.core.frame.DataFrame'>\n",
      "RangeIndex: 200000 entries, 0 to 199999\n",
      "Data columns (total 5 columns):\n",
      " #   Column        Non-Null Count   Dtype  \n",
      "---  ------        --------------   -----  \n",
      " 0   ID            200000 non-null  object \n",
      " 1   Severity      200000 non-null  int64  \n",
      " 2   Start_Time    200000 non-null  object \n",
      " 3   End_Time      200000 non-null  object \n",
      " 4   Distance(mi)  200000 non-null  float64\n",
      "dtypes: float64(1), int64(1), object(3)\n",
      "memory usage: 7.6+ MB\n"
     ]
    },
    {
     "data": {
      "text/html": [
       "<div>\n",
       "<style scoped>\n",
       "    .dataframe tbody tr th:only-of-type {\n",
       "        vertical-align: middle;\n",
       "    }\n",
       "\n",
       "    .dataframe tbody tr th {\n",
       "        vertical-align: top;\n",
       "    }\n",
       "\n",
       "    .dataframe thead th {\n",
       "        text-align: right;\n",
       "    }\n",
       "</style>\n",
       "<table border=\"1\" class=\"dataframe\">\n",
       "  <thead>\n",
       "    <tr style=\"text-align: right;\">\n",
       "      <th></th>\n",
       "      <th>ID</th>\n",
       "      <th>Severity</th>\n",
       "      <th>Start_Time</th>\n",
       "      <th>End_Time</th>\n",
       "      <th>Distance(mi)</th>\n",
       "    </tr>\n",
       "  </thead>\n",
       "  <tbody>\n",
       "    <tr>\n",
       "      <th>0</th>\n",
       "      <td>A-1</td>\n",
       "      <td>3</td>\n",
       "      <td>2016-02-08 05:46:00</td>\n",
       "      <td>2016-02-08 11:00:00</td>\n",
       "      <td>0.01</td>\n",
       "    </tr>\n",
       "    <tr>\n",
       "      <th>1</th>\n",
       "      <td>A-2</td>\n",
       "      <td>2</td>\n",
       "      <td>2016-02-08 06:07:59</td>\n",
       "      <td>2016-02-08 06:37:59</td>\n",
       "      <td>0.01</td>\n",
       "    </tr>\n",
       "    <tr>\n",
       "      <th>2</th>\n",
       "      <td>A-3</td>\n",
       "      <td>2</td>\n",
       "      <td>2016-02-08 06:49:27</td>\n",
       "      <td>2016-02-08 07:19:27</td>\n",
       "      <td>0.01</td>\n",
       "    </tr>\n",
       "    <tr>\n",
       "      <th>3</th>\n",
       "      <td>A-4</td>\n",
       "      <td>3</td>\n",
       "      <td>2016-02-08 07:23:34</td>\n",
       "      <td>2016-02-08 07:53:34</td>\n",
       "      <td>0.01</td>\n",
       "    </tr>\n",
       "    <tr>\n",
       "      <th>4</th>\n",
       "      <td>A-5</td>\n",
       "      <td>2</td>\n",
       "      <td>2016-02-08 07:39:07</td>\n",
       "      <td>2016-02-08 08:09:07</td>\n",
       "      <td>0.01</td>\n",
       "    </tr>\n",
       "    <tr>\n",
       "      <th>5</th>\n",
       "      <td>A-6</td>\n",
       "      <td>3</td>\n",
       "      <td>2016-02-08 07:44:26</td>\n",
       "      <td>2016-02-08 08:14:26</td>\n",
       "      <td>0.01</td>\n",
       "    </tr>\n",
       "    <tr>\n",
       "      <th>6</th>\n",
       "      <td>A-7</td>\n",
       "      <td>2</td>\n",
       "      <td>2016-02-08 07:59:35</td>\n",
       "      <td>2016-02-08 08:29:35</td>\n",
       "      <td>0.00</td>\n",
       "    </tr>\n",
       "    <tr>\n",
       "      <th>7</th>\n",
       "      <td>A-8</td>\n",
       "      <td>3</td>\n",
       "      <td>2016-02-08 07:59:58</td>\n",
       "      <td>2016-02-08 08:29:58</td>\n",
       "      <td>0.01</td>\n",
       "    </tr>\n",
       "    <tr>\n",
       "      <th>8</th>\n",
       "      <td>A-9</td>\n",
       "      <td>2</td>\n",
       "      <td>2016-02-08 08:00:40</td>\n",
       "      <td>2016-02-08 08:30:40</td>\n",
       "      <td>0.00</td>\n",
       "    </tr>\n",
       "    <tr>\n",
       "      <th>9</th>\n",
       "      <td>A-10</td>\n",
       "      <td>3</td>\n",
       "      <td>2016-02-08 08:10:04</td>\n",
       "      <td>2016-02-08 08:40:04</td>\n",
       "      <td>0.01</td>\n",
       "    </tr>\n",
       "  </tbody>\n",
       "</table>\n",
       "</div>"
      ],
      "text/plain": [
       "     ID  Severity           Start_Time             End_Time  Distance(mi)\n",
       "0   A-1         3  2016-02-08 05:46:00  2016-02-08 11:00:00          0.01\n",
       "1   A-2         2  2016-02-08 06:07:59  2016-02-08 06:37:59          0.01\n",
       "2   A-3         2  2016-02-08 06:49:27  2016-02-08 07:19:27          0.01\n",
       "3   A-4         3  2016-02-08 07:23:34  2016-02-08 07:53:34          0.01\n",
       "4   A-5         2  2016-02-08 07:39:07  2016-02-08 08:09:07          0.01\n",
       "5   A-6         3  2016-02-08 07:44:26  2016-02-08 08:14:26          0.01\n",
       "6   A-7         2  2016-02-08 07:59:35  2016-02-08 08:29:35          0.00\n",
       "7   A-8         3  2016-02-08 07:59:58  2016-02-08 08:29:58          0.01\n",
       "8   A-9         2  2016-02-08 08:00:40  2016-02-08 08:30:40          0.00\n",
       "9  A-10         3  2016-02-08 08:10:04  2016-02-08 08:40:04          0.01"
      ]
     },
     "execution_count": 4,
     "metadata": {},
     "output_type": "execute_result"
    }
   ],
   "source": [
    "df.info()\n",
    "df.describe()\n",
    "df.head(10)"
   ]
  },
  {
   "cell_type": "markdown",
   "id": "5893fd2c",
   "metadata": {
    "papermill": {
     "duration": 0.004259,
     "end_time": "2024-09-26T16:53:15.888656",
     "exception": false,
     "start_time": "2024-09-26T16:53:15.884397",
     "status": "completed"
    },
    "tags": []
   },
   "source": [
    "### Exploring the Dataset\n",
    "In this section, the following functions are used to gain insights into the dataset:\n",
    "- **`df.info()`**: Provides a concise summary of the DataFrame, including the number of entries, data types, and memory usage.\n",
    "- **`df.describe()`**: Generates descriptive statistics for numerical columns, including count, mean, standard deviation, min, and max values.\n",
    "- **`df.head(10)`**: Displays the first 10 rows of the DataFrame to give a quick look at the data structure and values.\n",
    "---"
   ]
  },
  {
   "cell_type": "code",
   "execution_count": 5,
   "id": "68539ec5",
   "metadata": {
    "execution": {
     "iopub.execute_input": "2024-09-26T16:53:15.898604Z",
     "iopub.status.busy": "2024-09-26T16:53:15.898315Z",
     "iopub.status.idle": "2024-09-26T16:53:16.404349Z",
     "shell.execute_reply": "2024-09-26T16:53:16.403390Z"
    },
    "papermill": {
     "duration": 0.514273,
     "end_time": "2024-09-26T16:53:16.407171",
     "exception": false,
     "start_time": "2024-09-26T16:53:15.892898",
     "status": "completed"
    },
    "tags": []
   },
   "outputs": [],
   "source": [
    "from sklearn.impute import SimpleImputer\n",
    "imputer = SimpleImputer(missing_values='NaN', strategy='most_frequent')"
   ]
  },
  {
   "cell_type": "markdown",
   "id": "3591de74",
   "metadata": {
    "papermill": {
     "duration": 0.004527,
     "end_time": "2024-09-26T16:53:16.417668",
     "exception": false,
     "start_time": "2024-09-26T16:53:16.413141",
     "status": "completed"
    },
    "tags": []
   },
   "source": [
    "### Handling Missing Data\n",
    "This section addresses missing values in the dataset:\n",
    "- **`SimpleImputer`**: A tool from `sklearn` to handle missing data.\n",
    "- **`missing_values='NaN'`**: Specifies that missing values are represented as 'NaN'.\n",
    "- **`strategy='most_frequent'`**: Replaces missing values with the most frequent value in the column.\n",
    "---"
   ]
  },
  {
   "cell_type": "code",
   "execution_count": 6,
   "id": "8459c38d",
   "metadata": {
    "execution": {
     "iopub.execute_input": "2024-09-26T16:53:16.428901Z",
     "iopub.status.busy": "2024-09-26T16:53:16.428001Z",
     "iopub.status.idle": "2024-09-26T16:53:16.432099Z",
     "shell.execute_reply": "2024-09-26T16:53:16.431427Z"
    },
    "papermill": {
     "duration": 0.011707,
     "end_time": "2024-09-26T16:53:16.433807",
     "exception": false,
     "start_time": "2024-09-26T16:53:16.422100",
     "status": "completed"
    },
    "tags": []
   },
   "outputs": [],
   "source": [
    "from sklearn.neighbors import KNeighborsClassifier\n",
    "knn_model = KNeighborsClassifier(n_neighbors=2)"
   ]
  },
  {
   "cell_type": "markdown",
   "id": "ba8de081",
   "metadata": {
    "papermill": {
     "duration": 0.004157,
     "end_time": "2024-09-26T16:53:16.442156",
     "exception": false,
     "start_time": "2024-09-26T16:53:16.437999",
     "status": "completed"
    },
    "tags": []
   },
   "source": [
    "### Initializing K-Nearest Neighbors Classifier\n",
    "This section initializes the K-Nearest Neighbors (KNN) model:\n",
    "- **`KNeighborsClassifier`**: A classification algorithm based on the nearest neighbors.\n",
    "- **`n_neighbors=2`**: Specifies that the model will consider the two closest neighbors when making predictions.\n",
    "---"
   ]
  },
  {
   "cell_type": "code",
   "execution_count": 7,
   "id": "14b0edde",
   "metadata": {
    "execution": {
     "iopub.execute_input": "2024-09-26T16:53:16.452415Z",
     "iopub.status.busy": "2024-09-26T16:53:16.451938Z",
     "iopub.status.idle": "2024-09-26T16:53:24.882013Z",
     "shell.execute_reply": "2024-09-26T16:53:24.881309Z"
    },
    "papermill": {
     "duration": 8.437281,
     "end_time": "2024-09-26T16:53:24.883812",
     "exception": false,
     "start_time": "2024-09-26T16:53:16.446531",
     "status": "completed"
    },
    "tags": []
   },
   "outputs": [
    {
     "name": "stdout",
     "output_type": "stream",
     "text": [
      "Modelin doğruluk oranı: 0.58\n",
      "\n",
      "Karışıklık Matrisi:\n",
      "[[    0    59     0     0]\n",
      " [    4 42122  5126     0]\n",
      " [    9 28412  4208     0]\n",
      " [    0    56     4     0]]\n",
      "\n",
      "Sınıflandırma Raporu:\n",
      "              precision    recall  f1-score   support\n",
      "\n",
      "           1       0.00      0.00      0.00        59\n",
      "           2       0.60      0.89      0.71     47252\n",
      "           3       0.45      0.13      0.20     32629\n",
      "           4       0.00      0.00      0.00        60\n",
      "\n",
      "    accuracy                           0.58     80000\n",
      "   macro avg       0.26      0.26      0.23     80000\n",
      "weighted avg       0.54      0.58      0.50     80000\n",
      "\n"
     ]
    }
   ],
   "source": [
    "steps = [('imputation', imputer), ('knn', knn_model)]\n",
    "\n",
    "from sklearn.pipeline import Pipeline\n",
    "pipeline = Pipeline(steps)\n",
    "\n",
    "from sklearn.model_selection import train_test_split\n",
    "from sklearn.metrics import accuracy_score\n",
    "from sklearn.metrics import accuracy_score, f1_score, confusion_matrix, classification_report\n",
    "\n",
    "df['Start_Time'] = pd.to_datetime(df['Start_Time'], errors='coerce')\n",
    "df['End_Time'] = pd.to_datetime(df['End_Time'], errors='coerce')\n",
    "\n",
    "df = df.dropna(subset=['Start_Time', 'End_Time'])\n",
    "\n",
    "df['Duration'] = (df['End_Time'] - df['Start_Time']).dt.total_seconds() / 3600\n",
    "\n",
    "df = df.dropna(subset=['Duration'])\n",
    "\n",
    "X = df[['Duration']].values\n",
    "y = df['Severity'].values\n",
    "\n",
    "X_train, X_test, y_train, y_test = train_test_split(X, y, test_size=0.4, random_state=42)\n",
    "\n",
    "knn_model.fit(X_train, y_train)\n",
    "\n",
    "y_pred = knn_model.predict(X_test)\n",
    "\n",
    "accuracy = accuracy_score(y_test, y_pred)\n",
    "print(f\"Modelin doğruluk oranı: {accuracy:.2f}\")\n",
    "\n",
    "conf_matrix = confusion_matrix(y_test, y_pred)\n",
    "print(\"\\nKarışıklık Matrisi:\")\n",
    "print(conf_matrix)\n",
    "\n",
    "class_report = classification_report(y_test, y_pred, zero_division=0)\n",
    "print(\"\\nSınıflandırma Raporu:\")\n",
    "print(class_report)"
   ]
  },
  {
   "cell_type": "markdown",
   "id": "d8d2f790",
   "metadata": {
    "papermill": {
     "duration": 0.004067,
     "end_time": "2024-09-26T16:53:24.891863",
     "exception": false,
     "start_time": "2024-09-26T16:53:24.887796",
     "status": "completed"
    },
    "tags": []
   },
   "source": [
    "### Model Pipeline and Evaluation\n",
    "This section sets up a machine learning pipeline and evaluates the KNN model:\n",
    "1. **Pipeline Creation**: Combines imputation and KNN steps into a single workflow.\n",
    "2. **Data Preparation**:\n",
    "   - Converts `Start_Time` and `End_Time` to datetime format.\n",
    "   - Drops rows with missing `Start_Time` or `End_Time`.\n",
    "   - Calculates the duration of each accident in hours.\n",
    "   - Drops rows with missing duration values.\n",
    "3. **Feature and Target Selection**: \n",
    "   - **`X`**: Features (duration).\n",
    "   - **`y`**: Target variable (severity).\n",
    "4. **Train-Test Split**: Divides the dataset into training (60%) and testing (40%) sets.\n",
    "5. **Model Training**: Fits the KNN model to the training data.\n",
    "6. **Predictions**: Uses the model to predict severity on the test set.\n",
    "7. **Evaluation**:\n",
    "   - Calculates and prints the model's accuracy. The accuracy increased from 57% to 75% when using the complete dataset without limiting rows and maintaining `n_neighbors=2` and `test_size=0.4`.\n",
    "   - Displays the confusion matrix.\n",
    "   - Provides a classification report with precision, recall, and F1 scores.\n",
    "---"
   ]
  },
  {
   "cell_type": "code",
   "execution_count": 8,
   "id": "888080f1",
   "metadata": {
    "execution": {
     "iopub.execute_input": "2024-09-26T16:53:24.900722Z",
     "iopub.status.busy": "2024-09-26T16:53:24.900433Z",
     "iopub.status.idle": "2024-09-26T16:53:24.932527Z",
     "shell.execute_reply": "2024-09-26T16:53:24.931832Z"
    },
    "papermill": {
     "duration": 0.038803,
     "end_time": "2024-09-26T16:53:24.934338",
     "exception": false,
     "start_time": "2024-09-26T16:53:24.895535",
     "status": "completed"
    },
    "tags": []
   },
   "outputs": [],
   "source": [
    "df['Start_Time'] = pd.to_datetime(df['Start_Time'], errors='coerce')\n",
    "df['End_Time'] = pd.to_datetime(df['End_Time'], errors='coerce')\n",
    "\n",
    "df = df.dropna(subset=['Start_Time', 'End_Time'])\n",
    "\n",
    "df['Duration'] = (df['End_Time'] - df['Start_Time']).dt.total_seconds() / 3600"
   ]
  },
  {
   "cell_type": "markdown",
   "id": "f5c7fd36",
   "metadata": {
    "papermill": {
     "duration": 0.00402,
     "end_time": "2024-09-26T16:53:24.942026",
     "exception": false,
     "start_time": "2024-09-26T16:53:24.938006",
     "status": "completed"
    },
    "tags": []
   },
   "source": [
    "### Data Preparation and Duration Calculation\n",
    "This section prepares the dataset by converting time columns and calculating the duration of each accident:\n",
    "1. **Datetime Conversion**:\n",
    "   - Converts `Start_Time` and `End_Time` columns to datetime format, using `errors='coerce'` to handle any invalid parsing by converting them to NaT (Not a Time).\n",
    "2. **Dropping Missing Values**:\n",
    "   - Removes rows where either `Start_Time` or `End_Time` is missing.\n",
    "3. **Duration Calculation**:\n",
    "   - Calculates the duration of each accident in hours by subtracting `Start_Time` from `End_Time` and converting the result to total seconds, then dividing by 3600 to get hours.\n",
    "---"
   ]
  },
  {
   "cell_type": "code",
   "execution_count": 9,
   "id": "6aed6f1a",
   "metadata": {
    "execution": {
     "iopub.execute_input": "2024-09-26T16:53:24.950979Z",
     "iopub.status.busy": "2024-09-26T16:53:24.950688Z",
     "iopub.status.idle": "2024-09-26T16:53:38.894899Z",
     "shell.execute_reply": "2024-09-26T16:53:38.894247Z"
    },
    "papermill": {
     "duration": 13.950785,
     "end_time": "2024-09-26T16:53:38.896564",
     "exception": false,
     "start_time": "2024-09-26T16:53:24.945779",
     "status": "completed"
    },
    "tags": []
   },
   "outputs": [
    {
     "data": {
      "image/png": "[encoded data removed]",
      "text/plain": [
       "<Figure size 640x480 with 1 Axes>"
      ]
     },
     "metadata": {},
     "output_type": "display_data"
    }
   ],
   "source": [
    "plt.figure()\n",
    "sns.countplot(x='Duration', hue='Severity', data=df, palette='RdBu')\n",
    "plt.xticks([1], ['Severity'])\n",
    "plt.show()"
   ]
  },
  {
   "cell_type": "markdown",
   "id": "556f5ae9",
   "metadata": {
    "papermill": {
     "duration": 0.004136,
     "end_time": "2024-09-26T16:53:38.904997",
     "exception": false,
     "start_time": "2024-09-26T16:53:38.900861",
     "status": "completed"
    },
    "tags": []
   },
   "source": [
    "### Visualizing Accident Durations by Severity\n",
    "This section creates a count plot to visualize the relationship between accident duration and severity:\n",
    "- **Figure Creation**: Initializes a new figure for the plot.\n",
    "- **Count Plot**: Uses Seaborn's `countplot` to display the count of accidents for each duration, colored by severity level.\n",
    "  - **`x='Duration'`**: The x-axis represents the duration of the accidents.\n",
    "  - **`hue='Severity'`**: Colors the bars based on the severity levels of the accidents.\n",
    "  - **`palette='RdBu'`**: Sets the color palette to 'RdBu', which provides a red-blue color scheme.\n",
    "- **X-Ticks**: Modifies the x-axis ticks to show 'Severity' for improved clarity.\n",
    "- **Display**: Renders the plot to visualize the data.\n",
    "---"
   ]
  },
  {
   "cell_type": "code",
   "execution_count": 10,
   "id": "52f836cd",
   "metadata": {
    "execution": {
     "iopub.execute_input": "2024-09-26T16:53:38.914833Z",
     "iopub.status.busy": "2024-09-26T16:53:38.914576Z",
     "iopub.status.idle": "2024-09-26T16:53:39.226680Z",
     "shell.execute_reply": "2024-09-26T16:53:39.225886Z"
    },
    "papermill": {
     "duration": 0.319084,
     "end_time": "2024-09-26T16:53:39.228226",
     "exception": false,
     "start_time": "2024-09-26T16:53:38.909142",
     "status": "completed"
    },
    "tags": []
   },
   "outputs": [
    {
     "name": "stdout",
     "output_type": "stream",
     "text": [
      "Karar Ağacı Modelinin Doğruluk Oranı: 0.5876\n",
      "Hiperparametrelerle Karar Ağacı Modelinin Doğruluk Oranı: 0.5893\n",
      "\n",
      "Karar Ağacı Karışıklık Matrisi:\n",
      "[[    0    24     0     0]\n",
      " [    0 23570     0     0]\n",
      " [    0 16375     0     0]\n",
      " [    0    31     0     0]]\n",
      "\n",
      "Karar Ağacı Sınıflandırma Raporu:\n",
      "              precision    recall  f1-score   support\n",
      "\n",
      "           1       0.00      0.00      0.00        24\n",
      "           2       0.59      1.00      0.74     23570\n",
      "           3       0.00      0.00      0.00     16375\n",
      "           4       0.00      0.00      0.00        31\n",
      "\n",
      "    accuracy                           0.59     40000\n",
      "   macro avg       0.15      0.25      0.19     40000\n",
      "weighted avg       0.35      0.59      0.44     40000\n",
      "\n"
     ]
    }
   ],
   "source": [
    "from sklearn.tree import DecisionTreeClassifier\n",
    "from sklearn.metrics import accuracy_score\n",
    "from sklearn.model_selection import train_test_split\n",
    "from sklearn.metrics import accuracy_score, f1_score, confusion_matrix, classification_report\n",
    "\n",
    "\n",
    "\n",
    "df = df.dropna(subset=['Duration'])\n",
    "\n",
    "X = df[['Duration']].values\n",
    "y = df['Severity'].values\n",
    "\n",
    "X_train, X_test, y_train, y_test = train_test_split(X, y, test_size=0.2, random_state=42)\n",
    "\n",
    "decision_tree = DecisionTreeClassifier(random_state=42)\n",
    "\n",
    "decision_tree.fit(X_train, y_train)\n",
    "\n",
    "y_pred = decision_tree.predict(X_test)\n",
    "\n",
    "accuracy = accuracy_score(y_test, y_pred)\n",
    "print(f\"Karar Ağacı Modelinin Doğruluk Oranı: {accuracy:.4f}\")\n",
    "\n",
    "decision_tree = DecisionTreeClassifier(max_depth=5, min_samples_split=10, random_state=42)\n",
    "\n",
    "decision_tree.fit(X_train, y_train)\n",
    "y_pred = decision_tree.predict(X_test)\n",
    "accuracy = accuracy_score(y_test, y_pred)\n",
    "print(f\"Hiperparametrelerle Karar Ağacı Modelinin Doğruluk Oranı: {accuracy:.4f}\")\n",
    "\n",
    "conf_matrix_tree = confusion_matrix(y_test, y_pred)\n",
    "print(\"\\nKarar Ağacı Karışıklık Matrisi:\")\n",
    "print(conf_matrix_tree)\n",
    "\n",
    "class_report_tree = classification_report(y_test, y_pred, zero_division=0)\n",
    "print(\"\\nKarar Ağacı Sınıflandırma Raporu:\")\n",
    "print(class_report_tree)"
   ]
  },
  {
   "cell_type": "markdown",
   "id": "307411c2",
   "metadata": {
    "papermill": {
     "duration": 0.004017,
     "end_time": "2024-09-26T16:53:39.236873",
     "exception": false,
     "start_time": "2024-09-26T16:53:39.232856",
     "status": "completed"
    },
    "tags": []
   },
   "source": [
    "### Decision Tree Classifier Implementation and Evaluation\n",
    "This section implements a Decision Tree classifier and evaluates its performance:\n",
    "1. **Dropping Missing Values**:\n",
    "   - Removes rows with missing duration values to ensure the dataset is clean for modeling.\n",
    "2. **Feature and Target Selection**:\n",
    "   - **`X`**: Features (duration).\n",
    "   - **`y`**: Target variable (severity).\n",
    "3. **Train-Test Split**:\n",
    "   - Divides the dataset into training (80%) and testing (20%) sets using `train_test_split`.\n",
    "4. **Model Initialization and Training**:\n",
    "   - Initializes a `DecisionTreeClassifier` with a specified random state.\n",
    "   - Fits the model to the training data.\n",
    "5. **Predictions and Accuracy**:\n",
    "   - Uses the trained model to predict severity on the test set.\n",
    "   - Calculates and prints the accuracy of the model, which increased from 60% to 78% when using the complete dataset without limiting rows.\n",
    "6. **Hyperparameter Tuning**:\n",
    "   - Initializes a second `DecisionTreeClassifier` with specified hyperparameters (`max_depth=5` and `min_samples_split=10`).\n",
    "   - Trains the model again and calculates its accuracy.\n",
    "7. **Evaluation**:\n",
    "   - Displays the confusion matrix to assess model performance.\n",
    "   - Provides a classification report detailing precision, recall, and F1 scores.\n",
    "---"
   ]
  },
  {
   "cell_type": "code",
   "execution_count": 11,
   "id": "c04f0656",
   "metadata": {
    "execution": {
     "iopub.execute_input": "2024-09-26T16:53:39.246701Z",
     "iopub.status.busy": "2024-09-26T16:53:39.246298Z",
     "iopub.status.idle": "2024-09-26T16:53:43.084662Z",
     "shell.execute_reply": "2024-09-26T16:53:43.083591Z"
    },
    "papermill": {
     "duration": 3.845741,
     "end_time": "2024-09-26T16:53:43.086791",
     "exception": false,
     "start_time": "2024-09-26T16:53:39.241050",
     "status": "completed"
    },
    "tags": []
   },
   "outputs": [
    {
     "data": {
      "image/png": "[encoded data removed]",
      "text/plain": [
       "<Figure size 640x480 with 2 Axes>"
      ]
     },
     "metadata": {},
     "output_type": "display_data"
    },
    {
     "name": "stdout",
     "output_type": "stream",
     "text": [
      "\n",
      "k-Means Karışıklık Matrisi:\n",
      "[[     0      0      0      0      0]\n",
      " [   154      0      0      0      0]\n",
      " [117626      1    181      2      0]\n",
      " [ 81640      0    244     22      0]\n",
      " [   128      0      2      0      0]]\n"
     ]
    },
    {
     "name": "stdout",
     "output_type": "stream",
     "text": [
      "\n",
      "k-Means Sınıflandırma Raporu:\n",
      "              precision    recall  f1-score   support\n",
      "\n",
      "           1       0.00      0.00      0.00         0\n",
      "           2       0.00      0.00      0.00       154\n",
      "           3       0.42      0.00      0.00    117810\n",
      "           4       0.92      0.00      0.00     81906\n",
      "           5       0.00      0.00      0.00       130\n",
      "\n",
      "    accuracy                           0.00    200000\n",
      "   macro avg       0.27      0.00      0.00    200000\n",
      "weighted avg       0.63      0.00      0.00    200000\n",
      "\n"
     ]
    }
   ],
   "source": [
    "from sklearn.cluster import KMeans\n",
    "import matplotlib.pyplot as plt\n",
    "from sklearn.metrics import confusion_matrix, classification_report\n",
    "\n",
    "X = df[['Duration']].values\n",
    "\n",
    "kmeans = KMeans(n_clusters=4, random_state=42)\n",
    "kmeans.fit(X)\n",
    "\n",
    "y_kmeans = kmeans.predict(X)\n",
    "\n",
    "plt.scatter(X[:, 0], y_kmeans, c=y_kmeans, cmap='viridis')\n",
    "plt.title('k-Means Kümeleme Sonuçları')\n",
    "plt.xlabel('Kazanın Süresi (Saat)')\n",
    "plt.ylabel('Küme Numarası')\n",
    "plt.colorbar(label='Küme')\n",
    "plt.show()\n",
    "\n",
    "conf_matrix_kmeans = confusion_matrix(df['Severity'], y_kmeans)\n",
    "print(\"\\nk-Means Karışıklık Matrisi:\")\n",
    "print(conf_matrix_kmeans)\n",
    "\n",
    "class_report_kmeans = classification_report(df['Severity'], y_kmeans, target_names=['1', '2', '3', '4', '5'], zero_division=0)\n",
    "print(\"\\nk-Means Sınıflandırma Raporu:\")\n",
    "print(class_report_kmeans)"
   ]
  },
  {
   "cell_type": "markdown",
   "id": "cc0c46e3",
   "metadata": {
    "papermill": {
     "duration": 0.005069,
     "end_time": "2024-09-26T16:53:43.097228",
     "exception": false,
     "start_time": "2024-09-26T16:53:43.092159",
     "status": "completed"
    },
    "tags": []
   },
   "source": [
    "### K-Means Clustering Implementation and Evaluation\n",
    "This section implements K-Means clustering and evaluates the results:\n",
    "1. **Feature Selection**:\n",
    "   - **`X`**: Uses the `Duration` feature to perform clustering.\n",
    "2. **K-Means Initialization and Training**:\n",
    "   - Initializes a `KMeans` model with 4 clusters and a specified random state.\n",
    "   - Fits the model to the duration data.\n",
    "3. **Predictions**:\n",
    "   - Predicts cluster assignments for each data point using the trained K-Means model.\n",
    "4. **Visualization**:\n",
    "   - Creates a scatter plot to visualize the clustering results.\n",
    "     - **X-axis**: Duration of accidents in hours.\n",
    "     - **Y-axis**: Cluster number.\n",
    "     - Uses a color map (`viridis`) to differentiate between clusters.\n",
    "   - Although the visualization aspect was challenging, it appears to be more accurate than the previous graph.\n",
    "5. **Evaluation**:\n",
    "   - Calculates the confusion matrix to compare true severity labels with K-Means cluster assignments.\n",
    "   - Displays a classification report, including precision, recall, and F1 scores for each severity class.\n",
    "   - The model achieved an accuracy of only 0.04, likely due to the dataset not working efficiently with this type of unsupervised learning and potentially incorrect processing steps.\n",
    "   - There was a puzzling requirement for 5 target names in the `classification_report`, despite having only 4 unique severity values. This was resolved by adjusting the parameters, but the reasoning remains unclear.\n",
    "---"
   ]
  }
 ],
 "metadata": {
  "kaggle": {
   "accelerator": "tpu1vmV38",
   "dataSources": [
    {
     "datasetId": 199387,
     "sourceId": 5793796,
     "sourceType": "datasetVersion"
    }
   ],
   "dockerImageVersionId": 30763,
   "isGpuEnabled": false,
   "isInternetEnabled": false,
   "language": "python",
   "sourceType": "notebook"
  },
  "kernelspec": {
   "display_name": "Python 3",
   "language": "python",
   "name": "python3"
  },
  "language_info": {
   "codemirror_mode": {
    "name": "ipython",
    "version": 3
   },
   "file_extension": ".py",
   "mimetype": "text/x-python",
   "name": "python",
   "nbconvert_exporter": "python",
   "pygments_lexer": "ipython3",
   "version": "3.10.14"
  },
  "papermill": {
   "default_parameters": {},
   "duration": 36.708768,
   "end_time": "2024-09-26T16:53:45.705288",
   "environment_variables": {},
   "exception": null,
   "input_path": "__notebook__.ipynb",
   "output_path": "__notebook__.ipynb",
   "parameters": {},
   "start_time": "2024-09-26T16:53:08.996520",
   "version": "2.6.0"
  }
 },
 "nbformat": 4,
 "nbformat_minor": 5
}
